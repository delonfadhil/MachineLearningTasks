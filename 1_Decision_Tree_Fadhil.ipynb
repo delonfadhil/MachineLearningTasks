{
  "nbformat": 4,
  "nbformat_minor": 0,
  "metadata": {
    "colab": {
      "provenance": [],
      "mount_file_id": "1kx_e9UKEpJuPfYuzHhdM5iSTtBx96gsg",
      "authorship_tag": "ABX9TyPWfNJJZ7o2JQIT80P5MUtr",
      "include_colab_link": true
    },
    "kernelspec": {
      "name": "python3",
      "display_name": "Python 3"
    },
    "language_info": {
      "name": "python"
    }
  },
  "cells": [
    {
      "cell_type": "markdown",
      "metadata": {
        "id": "view-in-github",
        "colab_type": "text"
      },
      "source": [
        "<a href=\"https://colab.research.google.com/github/delonfadhil/MachineLearningTasks/blob/main/1_Decision_Tree_Fadhil.ipynb\" target=\"_parent\"><img src=\"https://colab.research.google.com/assets/colab-badge.svg\" alt=\"Open In Colab\"/></a>"
      ]
    },
    {
      "cell_type": "markdown",
      "source": [
        "Name : Fadhil Dzikri Aqila\n",
        "\n",
        "NIM : 1103213136\n",
        "\n",
        "Dataset : melb_house.csv\n",
        "\n",
        "Overview :"
      ],
      "metadata": {
        "id": "tJ-s8h0297yz"
      }
    },
    {
      "cell_type": "code",
      "execution_count": null,
      "metadata": {
        "id": "TO9OKdnA96Mv",
        "colab": {
          "base_uri": "https://localhost:8080/"
        },
        "outputId": "fe5df3d4-aea4-4ed0-a28c-42047f501a9a"
      },
      "outputs": [
        {
          "output_type": "stream",
          "name": "stdout",
          "text": [
            "   Unnamed: 0      Suburb           Address  Rooms Type      Price Method  \\\n",
            "0           1  Abbotsford      85 Turner St      2    h  1480000.0      S   \n",
            "1           2  Abbotsford   25 Bloomburg St      2    h  1035000.0      S   \n",
            "2           4  Abbotsford      5 Charles St      3    h  1465000.0     SP   \n",
            "3           5  Abbotsford  40 Federation La      3    h   850000.0     PI   \n",
            "4           6  Abbotsford       55a Park St      4    h  1600000.0     VB   \n",
            "\n",
            "  SellerG       Date  Distance  ...  Bathroom  Car  Landsize  BuildingArea  \\\n",
            "0  Biggin  3/12/2016       2.5  ...       1.0  1.0     202.0           NaN   \n",
            "1  Biggin  4/02/2016       2.5  ...       1.0  0.0     156.0          79.0   \n",
            "2  Biggin  4/03/2017       2.5  ...       2.0  0.0     134.0         150.0   \n",
            "3  Biggin  4/03/2017       2.5  ...       2.0  1.0      94.0           NaN   \n",
            "4  Nelson  4/06/2016       2.5  ...       1.0  2.0     120.0         142.0   \n",
            "\n",
            "   YearBuilt  CouncilArea  Lattitude Longtitude             Regionname  \\\n",
            "0        NaN        Yarra   -37.7996   144.9984  Northern Metropolitan   \n",
            "1     1900.0        Yarra   -37.8079   144.9934  Northern Metropolitan   \n",
            "2     1900.0        Yarra   -37.8093   144.9944  Northern Metropolitan   \n",
            "3        NaN        Yarra   -37.7969   144.9969  Northern Metropolitan   \n",
            "4     2014.0        Yarra   -37.8072   144.9941  Northern Metropolitan   \n",
            "\n",
            "   Propertycount  \n",
            "0         4019.0  \n",
            "1         4019.0  \n",
            "2         4019.0  \n",
            "3         4019.0  \n",
            "4         4019.0  \n",
            "\n",
            "[5 rows x 22 columns]\n",
            "Mean Squared Error: 6897909.691032609\n"
          ]
        }
      ],
      "source": [
        "import pandas as pd\n",
        "from sklearn.model_selection import train_test_split\n",
        "from sklearn.tree import DecisionTreeRegressor\n",
        "from sklearn.metrics import mean_squared_error\n",
        "\n",
        "# Baca data dari file CSV\n",
        "url = '/content/drive/MyDrive/Dataset/melb_data.csv'\n",
        "data = pd.read_csv(url)\n",
        "\n",
        "# Tampilkan lima baris pertama dari data\n",
        "print(data.head())\n",
        "\n",
        "# Pisahkan fitur dan target dan memilih kolom dengan tipe int dan float\n",
        "X = data.select_dtypes(include=['float64','int64'])\n",
        "X = X.dropna(axis=1)\n",
        "y = data['Price']\n",
        "\n",
        "# Bagi data menjadi data latih dan data uji\n",
        "X_train, X_test, y_train, y_test = train_test_split(X, y, test_size=0.2, random_state=42)\n",
        "\n",
        "# Buat mode Decision Tree\n",
        "model = DecisionTreeRegressor(random_state=42)\n",
        "\n",
        "# Latih model pada data latih\n",
        "model.fit(X_train, y_train)\n",
        "\n",
        "# Lakukan prediksi pada data uji\n",
        "y_pred = model.predict(X_test)\n",
        "\n",
        "# Evaluasi model\n",
        "mse = mean_squared_error(y_test, y_pred)\n",
        "print(\"Mean Squared Error:\", mse)"
      ]
    }
  ]
}